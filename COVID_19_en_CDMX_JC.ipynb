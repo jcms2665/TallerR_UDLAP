{
  "nbformat": 4,
  "nbformat_minor": 0,
  "metadata": {
    "colab": {
      "name": "COVID-19 en CDMX-JC",
      "provenance": [],
      "include_colab_link": true
    },
    "kernelspec": {
      "name": "python3",
      "display_name": "Python 3"
    },
    "accelerator": "GPU"
  },
  "cells": [
    {
      "cell_type": "markdown",
      "metadata": {
        "id": "view-in-github",
        "colab_type": "text"
      },
      "source": [
        "<a href=\"https://colab.research.google.com/github/jcms2665/TallerR_UDLAP/blob/master/COVID_19_en_CDMX_JC.ipynb\" target=\"_parent\"><img src=\"https://colab.research.google.com/assets/colab-badge.svg\" alt=\"Open In Colab\"/></a>"
      ]
    },
    {
      "cell_type": "code",
      "metadata": {
        "id": "bxullSSlDOwB",
        "colab_type": "code",
        "colab": {}
      },
      "source": [
        "#@title Librerías { display-mode: \"form\" }\n",
        "%matplotlib inline\n",
        "!pip install arviz\n",
        "import numpy as np\n",
        "from IPython.display import display, Markdown\n",
        "import matplotlib.pyplot as plt\n",
        "import matplotlib\n",
        "import pandas as pd\n",
        "import seaborn as sns\n",
        "import arviz as az\n",
        "import pymc3 as pm\n",
        "import altair as alt\n",
        "import plotly.express as px\n",
        "import requests\n",
        "import io\n",
        "\n",
        "sns.set_context('talk')\n",
        "plt.style.use('seaborn-whitegrid')"
      ],
      "execution_count": 0,
      "outputs": []
    },
    {
      "cell_type": "markdown",
      "metadata": {
        "id": "dvhCYYvTDqAB",
        "colab_type": "text"
      },
      "source": [
        "<h1><center> Desarrollo de COVID - 19 Ciudad de México </center></h1>\n",
        "\n",
        "#Contexto\n",
        "\n",
        "Tomado del muro de **Miguel Angel Núñez Ochoa** quien hace el ejercicio para Guadalajara y adaptado con los datos de la Ciudad de México. \n",
        "\n",
        "**Cualquier error u observación es importante**\n",
        "\n",
        "---\n",
        "#Introducción al modelo SEIR\n",
        "\n",
        "El modelo con el cuál vamos a trabajar es conocido como **SEIR** y la implementación que hice está basada en el libro: *Modeling Infectious Diseases in humans and animals (Keeling and Rohani, 2008)* \n",
        "\n",
        "Este modelo es uno de los modelos epidemiológicos más sencillos, se llama así por sus siglas,que hacen referencia a la capacidad del portador para transmitir la enfermedad:\n",
        "\n",
        "* **S**uceptible: Persona aún no expuesta al patógeno, pero forma parte de una población que ya tiene expuestos.\n",
        "\n",
        "* **E**xpuesto: Aquellas personas que están infectados pero aun no son *infecciosos*\n",
        " * Estas personas ya tienen el virus, pero el virus se encuentra en una etapa de desarrollo en el cuerpo, la carga viral es tán poca que la transmisión activa del virus es poco probable.\n",
        "* **I**nfectados: Personas colonizadas por el patógeno\n",
        "* **R**ecuperados: Aquellos que ya resolvieron la enfermedad.\n",
        "\n",
        ">>>>![SEIR](https://drive.google.com/uc?id=16GNLZ5a8zZctmzWjMECjKrUZ4Zn4hwwQ)\n",
        "\n",
        "---\n",
        "#Modelo matemático\n",
        "<h2><center>¿Cómo modelamos esto?</center></h2>\n",
        "\n",
        "Al ser un sistema dinámico, evoluciona con el tiempo, este tipo de sistemas se modelan con ecuaciones diferenciales, en el caso específico del modelo **SEIR** las ecuaciones son las siguientes:\n",
        "\n",
        "\\begin{gather*} \n",
        "\\dot{S} =  - \\beta SI \\\\ \n",
        "\\dot{E} =  \\beta SI - \\alpha E \\\\\n",
        "\\dot{I} =  - \\alpha E - \\gamma I \\\\ \n",
        "\\dot{R} =  \\gamma I \\\\\n",
        "S+E+I+R = 1\n",
        "\\end{gather*}\n",
        "\n",
        "1. La primera ecuación describe el cambio en personas suceptibles\n",
        " * $\\beta\\$ es el nombre que le daremos a la **tasa promedio de contagio**\n",
        "\n",
        "<font color='red'>FACT:</font> el distanciamiento social y la cuarentena son inversamente proporcinales a $\\beta\\$, es decir:\n",
        "\n",
        "<center> \"Al aumentar el distanciamento social, disminuimos la tasa promedio de contagio, por que reducimos el número de individuos infectados que se están mezclando de manera libre en la población\" </center>\n",
        "\n",
        "2. La segunda ecuación describe a las personas expuestas:\n",
        " * $\\alpha$ es el **inverso del periodo de incubación**\n",
        " * Según (Laurer et al. 2020; Hellewell et al. 2020) el periodo de incubación para COVID-19 es de alrededor de **5 dias**, por lo tanto:\n",
        "  * $\\alpha = 1 / 5 \\rightarrow 0.2$\n",
        "\n",
        "3. La tercera ecuación modela el cambio en personas infectadas, basada en la gente expuesta (aquellas infectadas pero que aun no son *infecciosas*) y el tiempo promedio de capacidad infecciosa, es decir, cuantas personas expuestas hay y cuanto tiempo cargan la capacidad de infectar.\n",
        " * $\\gamma$ es el inverso del **tiempo promedio de capacidad infecciosa**\n",
        "\n",
        "4. La cuarta ecuación modela a los recuperados.\n",
        "\n",
        "\n",
        "---\n",
        "\n",
        "<h1><center>CIUDAD DE MÉXICO</center></h1>\n",
        "\n",
        "**Supuestos para la ciudad de México:**\n",
        "\n",
        "* Población ($N$) de $\\sim$ 8510800 habitantes (INEGI).\n",
        "* 367 infectados al 23/03/2020 ($I$)\n",
        "* Las 367 personas han expuesto a 4 más (familias de 4 personas)\n",
        "* Evolución de la enfermedad por 90 días."
      ]
    },
    {
      "cell_type": "code",
      "metadata": {
        "id": "9_oyN4etEbwq",
        "colab_type": "code",
        "colab": {}
      },
      "source": [
        "dias_evaluacion = 90 # 90 días\n",
        "dt = 1\n",
        "periodo_evaluacion = np.linspace(0, dias_evaluacion, dias_evaluacion + 1)\n",
        "\n",
        "alpha = 0.2\n",
        "beta = 1.75\n",
        "gamma = 0.5\n",
        "parametros = alpha, beta, gamma\n",
        "\n",
        "#Condiciones iniciales de la ZMG\n",
        "ZMG_Population = 8510800 \n",
        "I_o = 367 / ZMG_Population  # 367 casos al 24-03-2020\n",
        "E_o = (367*4)/ZMG_Population # 4 Expuestos por caso\n",
        "S_o = (1) - (E_o+I_o) # El resto somos suceptibles\n",
        "R_o = 1,865 # Recuperado\n",
        "\n",
        "Condiciones_Iniciales = S_o,E_o,I_o,R_o"
      ],
      "execution_count": 0,
      "outputs": []
    },
    {
      "cell_type": "code",
      "metadata": {
        "id": "n2Os-z63m3-0",
        "colab_type": "code",
        "colab": {}
      },
      "source": [
        "def SEIR(IC,pmtrs,t,theta=1):\n",
        " \n",
        "  So,Eo,Io,Ro = IC\n",
        "  S,E,I,R = [So],[Eo],[Io],[Ro]\n",
        "  alpha,beta,gamma = pmtrs\n",
        "  dt = t[1]-t[0]\n",
        "  for _ in t[1:]:\n",
        "    St = S[-1] - (theta*beta*S[-1]*I[-1])*dt\n",
        "    Et = E[-1] + (theta*beta*S[-1]*I[-1] - alpha*E[-1])*dt\n",
        "    It = I[-1] + (alpha*E[-1] - gamma*I[-1])*dt\n",
        "    Rt = R[-1] + (gamma*I[-1])*dt\n",
        "    S.append(St)\n",
        "    E.append(Et)\n",
        "    I.append(It)\n",
        "    R.append(Rt)\n",
        "  return S,E,I,R"
      ],
      "execution_count": 0,
      "outputs": []
    },
    {
      "cell_type": "code",
      "metadata": {
        "id": "qOoK-dYbnMKN",
        "colab_type": "code",
        "colab": {}
      },
      "source": [
        "S,E,I,R = SEIR(Condiciones_Iniciales,parametros,periodo_evaluacion) # Obtenemos los suceptibles, expuestos, infectados y recuperados para los proximos 90 dias"
      ],
      "execution_count": 0,
      "outputs": []
    },
    {
      "cell_type": "code",
      "metadata": {
        "id": "YjHyW_wDprb_",
        "colab_type": "code",
        "outputId": "56fa14b0-b6e9-466a-94c7-2b47a1dff637",
        "colab": {
          "base_uri": "https://localhost:8080/",
          "height": 542
        }
      },
      "source": [
        "#@title Ciudad de México { display-mode: \"form\" }\n",
        "\n",
        "E_a = np.array(E)*ZMG_Population\n",
        "I_a = np.array(I)*ZMG_Population\n",
        "Clase = np.array([\"Expuestos\"]*np.array(E).shape[0] + [\"Infectados\"]*np.array(E).shape[0])\n",
        "Dias = np.concatenate([np.arange(0,91,1),np.arange(0,91,1)])\n",
        "SEIR_df = pd.DataFrame({\n",
        "    \"Casos\": np.concatenate([E_a,I_a]),\n",
        "    \"Clase\": Clase,\n",
        "    \"Dias\" : Dias\n",
        "})\n",
        "\n",
        "fig = px.line(SEIR_df, x=\"Dias\", y=\"Casos\", color='Clase')\n",
        "\n",
        "fig.update_layout(\n",
        "    title=\"Predicción del modelo SEIR de la evolución de COVID-19 en Ciudad de México\",\n",
        "    xaxis_title=\"Días\",\n",
        "    yaxis_title=\"Casos Totales\",\n",
        "    )\n",
        "for trace in fig.data:\n",
        "    trace.name = trace.name.split('=')[1]\n",
        "\n",
        "fig.show()"
      ],
      "execution_count": 0,
      "outputs": [
        {
          "output_type": "display_data",
          "data": {
            "text/html": [
              "<html>\n",
              "<head><meta charset=\"utf-8\" /></head>\n",
              "<body>\n",
              "    <div>\n",
              "            <script src=\"https://cdnjs.cloudflare.com/ajax/libs/mathjax/2.7.5/MathJax.js?config=TeX-AMS-MML_SVG\"></script><script type=\"text/javascript\">if (window.MathJax) {MathJax.Hub.Config({SVG: {font: \"STIX-Web\"}});}</script>\n",
              "                <script type=\"text/javascript\">window.PlotlyConfig = {MathJaxConfig: 'local'};</script>\n",
              "        <script src=\"https://cdn.plot.ly/plotly-latest.min.js\"></script>    \n",
              "            <div id=\"dc5eeccf-29ed-44b6-9d7f-a8bf757b4200\" class=\"plotly-graph-div\" style=\"height:525px; width:100%;\"></div>\n",
              "            <script type=\"text/javascript\">\n",
              "                \n",
              "                    window.PLOTLYENV=window.PLOTLYENV || {};\n",
              "                    \n",
              "                if (document.getElementById(\"dc5eeccf-29ed-44b6-9d7f-a8bf757b4200\")) {\n",
              "                    Plotly.newPlot(\n",
              "                        'dc5eeccf-29ed-44b6-9d7f-a8bf757b4200',\n",
              "                        [{\"hoverlabel\": {\"namelength\": 0}, \"hovertemplate\": \"Clase=Expuestos<br>Dias=%{x}<br>Casos=%{y}\", \"legendgroup\": \"Clase=Expuestos\", \"line\": {\"color\": \"#636efa\", \"dash\": \"solid\"}, \"mode\": \"lines\", \"name\": \"Expuestos\", \"showlegend\": true, \"type\": \"scatter\", \"x\": [0, 1, 2, 3, 4, 5, 6, 7, 8, 9, 10, 11, 12, 13, 14, 15, 16, 17, 18, 19, 20, 21, 22, 23, 24, 25, 26, 27, 28, 29, 30, 31, 32, 33, 34, 35, 36, 37, 38, 39, 40, 41, 42, 43, 44, 45, 46, 47, 48, 49, 50, 51, 52, 53, 54, 55, 56, 57, 58, 59, 60, 61, 62, 63, 64, 65, 66, 67, 68, 69, 70, 71, 72, 73, 74, 75, 76, 77, 78, 79, 80, 81, 82, 83, 84, 85, 86, 87, 88, 89, 90], \"xaxis\": \"x\", \"y\": [1468.0, 1816.5115255028904, 2287.891211244486, 2883.1446567869, 3633.217689727984, 4578.247500607077, 5768.796453417209, 7268.479343510638, 9157.293284634634, 11535.777305699994, 14530.193319670137, 18298.95846360556, 23040.598084475554, 29003.526349640895, 36497.99075669137, 45910.52562534246, 57721.227733195745, 72524.06189935772, 91050.1743511988, 114193.75965085921, 143039.2798445045, 178887.61541461965, 223276.83329848488, 277990.4532966372, 345042.1701660095, 426620.89076437603, 524974.0427462511, 642201.6568646911, 779931.534961521, 938852.0229307711, 1118101.2581411218, 1314559.2314429602, 1522166.7826141382, 1731494.76997751, 1929870.101521022, 2102361.2687644474, 2233749.938349865, 2311238.698962667, 2327187.0015634107, 2280908.289978327, 2178777.4684291375, 2032580.0866313814, 1856789.8054065767, 1665802.84656118, 1471934.235998209, 1284457.0807486845, 1109519.774801699, 950588.3533051101, 809088.3169165242, 685036.1447056758, 577562.647346182, 485303.8570113036, 406671.86261319276, 340030.76625876356, 283803.4990987873, 236531.00906362763, 196900.09919128328, 163751.52048385286, 136076.2581781298, 113005.26984422152, 93796.05548392251, 77818.16197528987, 64538.87466236772, 53509.79571267533, 44354.65651126557, 36758.492878552985, 30458.181367008685, 25234.26127417848, 20903.92957261865, 17315.080990419083, 14341.264006606381, 11877.429753160428, 9836.361046856584, 8145.680707743448, 6745.350564922273, 5585.5843017742645, 4625.108125457046, 3829.712968514371, 3171.050496393407, 2625.6326397323996, 2174.000775944663, 1800.0361535320073, 1490.3877937531054, 1233.998024478883, 1021.7090999061585, 845.9371274516714, 700.4018395461627, 579.9026829833088, 480.1333122059508, 397.52791701303806, 329.13393351087626], \"yaxis\": \"y\"}, {\"hoverlabel\": {\"namelength\": 0}, \"hovertemplate\": \"Clase=Infectados<br>Dias=%{x}<br>Casos=%{y}\", \"legendgroup\": \"Clase=Infectados\", \"line\": {\"color\": \"#EF553B\", \"dash\": \"solid\"}, \"mode\": \"lines\", \"name\": \"Infectados\", \"showlegend\": true, \"type\": \"scatter\", \"x\": [0, 1, 2, 3, 4, 5, 6, 7, 8, 9, 10, 11, 12, 13, 14, 15, 16, 17, 18, 19, 20, 21, 22, 23, 24, 25, 26, 27, 28, 29, 30, 31, 32, 33, 34, 35, 36, 37, 38, 39, 40, 41, 42, 43, 44, 45, 46, 47, 48, 49, 50, 51, 52, 53, 54, 55, 56, 57, 58, 59, 60, 61, 62, 63, 64, 65, 66, 67, 68, 69, 70, 71, 72, 73, 74, 75, 76, 77, 78, 79, 80, 81, 82, 83, 84, 85, 86, 87, 88, 89, 90], \"xaxis\": \"x\", \"y\": [367.0, 477.1, 601.8523051005781, 758.5043947991861, 955.8811287569731, 1204.5841023240835, 1517.9415512834573, 1912.7300663251706, 2410.060901864713, 3036.4891078592836, 3825.4000150696406, 4818.738671468848, 6069.161028455536, 7642.700131122879, 9622.05533548962, 12110.625819083085, 15237.418034610033, 19162.954563944164, 24086.289661843628, 30253.179701161578, 37965.341780752635, 47590.52685927721, 59572.78651256254, 74441.75991597825, 92818.97061731658, 115417.91934186021, 143033.1378238053, 176511.37746115288, 216696.02010351466, 264334.31704406155, 319937.563108185, 383589.03318231687, 454706.3628797505, 531786.5379627029, 612192.2229768535, 692070.1317926312, 766507.3196492052, 830003.6474945756, 877249.5635398212, 904062.1820825929, 908212.7490369619, 889861.8682043086, 851446.9514284306, 797081.4367955306, 731701.2877100013, 660237.4910546425, 587010.1616770582, 515409.0357988689, 447822.18856045644, 385728.7576635331, 329871.60777290165, 280448.33335568727, 237284.93808010433, 199976.84156269074, 167994.5740330981, 140757.98683630652, 117685.19523087877, 98222.61745369605, 81861.6128236186, 68146.05804743526, 56674.08299256194, 47096.252593065474, 39111.75869159071, 32463.654278268896, 26933.786281669516, 22337.824443087873, 18520.610797254532, 15351.941672029003, 12722.823090850197, 10542.19745994883, 8734.114928058232, 7235.310265350393, 5993.141083307282, 4963.842751024958, 4111.057517061168, 3404.598871515039, 2819.4162961123725, 2334.729773147596, 1933.307480276672, 1600.8638394170175, 1325.5584476549889, 1097.579379016427, 908.7969202146149, 752.4760188579286, 623.037614324741, 515.8606271436022, 427.11773906213534, 353.63923744030023, 292.80015531681187, 242.42674009959612, 200.71895345240569], \"yaxis\": \"y\"}],\n",
              "                        {\"legend\": {\"tracegroupgap\": 0}, \"margin\": {\"t\": 60}, \"template\": {\"data\": {\"bar\": [{\"error_x\": {\"color\": \"#2a3f5f\"}, \"error_y\": {\"color\": \"#2a3f5f\"}, \"marker\": {\"line\": {\"color\": \"#E5ECF6\", \"width\": 0.5}}, \"type\": \"bar\"}], \"barpolar\": [{\"marker\": {\"line\": {\"color\": \"#E5ECF6\", \"width\": 0.5}}, \"type\": \"barpolar\"}], \"carpet\": [{\"aaxis\": {\"endlinecolor\": \"#2a3f5f\", \"gridcolor\": \"white\", \"linecolor\": \"white\", \"minorgridcolor\": \"white\", \"startlinecolor\": \"#2a3f5f\"}, \"baxis\": {\"endlinecolor\": \"#2a3f5f\", \"gridcolor\": \"white\", \"linecolor\": \"white\", \"minorgridcolor\": \"white\", \"startlinecolor\": \"#2a3f5f\"}, \"type\": \"carpet\"}], \"choropleth\": [{\"colorbar\": {\"outlinewidth\": 0, \"ticks\": \"\"}, \"type\": \"choropleth\"}], \"contour\": [{\"colorbar\": {\"outlinewidth\": 0, \"ticks\": \"\"}, \"colorscale\": [[0.0, \"#0d0887\"], [0.1111111111111111, \"#46039f\"], [0.2222222222222222, \"#7201a8\"], [0.3333333333333333, \"#9c179e\"], [0.4444444444444444, \"#bd3786\"], [0.5555555555555556, \"#d8576b\"], [0.6666666666666666, \"#ed7953\"], [0.7777777777777778, \"#fb9f3a\"], [0.8888888888888888, \"#fdca26\"], [1.0, \"#f0f921\"]], \"type\": \"contour\"}], \"contourcarpet\": [{\"colorbar\": {\"outlinewidth\": 0, \"ticks\": \"\"}, \"type\": \"contourcarpet\"}], \"heatmap\": [{\"colorbar\": {\"outlinewidth\": 0, \"ticks\": \"\"}, \"colorscale\": [[0.0, \"#0d0887\"], [0.1111111111111111, \"#46039f\"], [0.2222222222222222, \"#7201a8\"], [0.3333333333333333, \"#9c179e\"], [0.4444444444444444, \"#bd3786\"], [0.5555555555555556, \"#d8576b\"], [0.6666666666666666, \"#ed7953\"], [0.7777777777777778, \"#fb9f3a\"], [0.8888888888888888, \"#fdca26\"], [1.0, \"#f0f921\"]], \"type\": \"heatmap\"}], \"heatmapgl\": [{\"colorbar\": {\"outlinewidth\": 0, \"ticks\": \"\"}, \"colorscale\": [[0.0, \"#0d0887\"], [0.1111111111111111, \"#46039f\"], [0.2222222222222222, \"#7201a8\"], [0.3333333333333333, \"#9c179e\"], [0.4444444444444444, \"#bd3786\"], [0.5555555555555556, \"#d8576b\"], [0.6666666666666666, \"#ed7953\"], [0.7777777777777778, \"#fb9f3a\"], [0.8888888888888888, \"#fdca26\"], [1.0, \"#f0f921\"]], \"type\": \"heatmapgl\"}], \"histogram\": [{\"marker\": {\"colorbar\": {\"outlinewidth\": 0, \"ticks\": \"\"}}, \"type\": \"histogram\"}], \"histogram2d\": [{\"colorbar\": {\"outlinewidth\": 0, \"ticks\": \"\"}, \"colorscale\": [[0.0, \"#0d0887\"], [0.1111111111111111, \"#46039f\"], [0.2222222222222222, \"#7201a8\"], [0.3333333333333333, \"#9c179e\"], [0.4444444444444444, \"#bd3786\"], [0.5555555555555556, \"#d8576b\"], [0.6666666666666666, \"#ed7953\"], [0.7777777777777778, \"#fb9f3a\"], [0.8888888888888888, \"#fdca26\"], [1.0, \"#f0f921\"]], \"type\": \"histogram2d\"}], \"histogram2dcontour\": [{\"colorbar\": {\"outlinewidth\": 0, \"ticks\": \"\"}, \"colorscale\": [[0.0, \"#0d0887\"], [0.1111111111111111, \"#46039f\"], [0.2222222222222222, \"#7201a8\"], [0.3333333333333333, \"#9c179e\"], [0.4444444444444444, \"#bd3786\"], [0.5555555555555556, \"#d8576b\"], [0.6666666666666666, \"#ed7953\"], [0.7777777777777778, \"#fb9f3a\"], [0.8888888888888888, \"#fdca26\"], [1.0, \"#f0f921\"]], \"type\": \"histogram2dcontour\"}], \"mesh3d\": [{\"colorbar\": {\"outlinewidth\": 0, \"ticks\": \"\"}, \"type\": \"mesh3d\"}], \"parcoords\": [{\"line\": {\"colorbar\": {\"outlinewidth\": 0, \"ticks\": \"\"}}, \"type\": \"parcoords\"}], \"pie\": [{\"automargin\": true, \"type\": \"pie\"}], \"scatter\": [{\"marker\": {\"colorbar\": {\"outlinewidth\": 0, \"ticks\": \"\"}}, \"type\": \"scatter\"}], \"scatter3d\": [{\"line\": {\"colorbar\": {\"outlinewidth\": 0, \"ticks\": \"\"}}, \"marker\": {\"colorbar\": {\"outlinewidth\": 0, \"ticks\": \"\"}}, \"type\": \"scatter3d\"}], \"scattercarpet\": [{\"marker\": {\"colorbar\": {\"outlinewidth\": 0, \"ticks\": \"\"}}, \"type\": \"scattercarpet\"}], \"scattergeo\": [{\"marker\": {\"colorbar\": {\"outlinewidth\": 0, \"ticks\": \"\"}}, \"type\": \"scattergeo\"}], \"scattergl\": [{\"marker\": {\"colorbar\": {\"outlinewidth\": 0, \"ticks\": \"\"}}, \"type\": \"scattergl\"}], \"scattermapbox\": [{\"marker\": {\"colorbar\": {\"outlinewidth\": 0, \"ticks\": \"\"}}, \"type\": \"scattermapbox\"}], \"scatterpolar\": [{\"marker\": {\"colorbar\": {\"outlinewidth\": 0, \"ticks\": \"\"}}, \"type\": \"scatterpolar\"}], \"scatterpolargl\": [{\"marker\": {\"colorbar\": {\"outlinewidth\": 0, \"ticks\": \"\"}}, \"type\": \"scatterpolargl\"}], \"scatterternary\": [{\"marker\": {\"colorbar\": {\"outlinewidth\": 0, \"ticks\": \"\"}}, \"type\": \"scatterternary\"}], \"surface\": [{\"colorbar\": {\"outlinewidth\": 0, \"ticks\": \"\"}, \"colorscale\": [[0.0, \"#0d0887\"], [0.1111111111111111, \"#46039f\"], [0.2222222222222222, \"#7201a8\"], [0.3333333333333333, \"#9c179e\"], [0.4444444444444444, \"#bd3786\"], [0.5555555555555556, \"#d8576b\"], [0.6666666666666666, \"#ed7953\"], [0.7777777777777778, \"#fb9f3a\"], [0.8888888888888888, \"#fdca26\"], [1.0, \"#f0f921\"]], \"type\": \"surface\"}], \"table\": [{\"cells\": {\"fill\": {\"color\": \"#EBF0F8\"}, \"line\": {\"color\": \"white\"}}, \"header\": {\"fill\": {\"color\": \"#C8D4E3\"}, \"line\": {\"color\": \"white\"}}, \"type\": \"table\"}]}, \"layout\": {\"annotationdefaults\": {\"arrowcolor\": \"#2a3f5f\", \"arrowhead\": 0, \"arrowwidth\": 1}, \"coloraxis\": {\"colorbar\": {\"outlinewidth\": 0, \"ticks\": \"\"}}, \"colorscale\": {\"diverging\": [[0, \"#8e0152\"], [0.1, \"#c51b7d\"], [0.2, \"#de77ae\"], [0.3, \"#f1b6da\"], [0.4, \"#fde0ef\"], [0.5, \"#f7f7f7\"], [0.6, \"#e6f5d0\"], [0.7, \"#b8e186\"], [0.8, \"#7fbc41\"], [0.9, \"#4d9221\"], [1, \"#276419\"]], \"sequential\": [[0.0, \"#0d0887\"], [0.1111111111111111, \"#46039f\"], [0.2222222222222222, \"#7201a8\"], [0.3333333333333333, \"#9c179e\"], [0.4444444444444444, \"#bd3786\"], [0.5555555555555556, \"#d8576b\"], [0.6666666666666666, \"#ed7953\"], [0.7777777777777778, \"#fb9f3a\"], [0.8888888888888888, \"#fdca26\"], [1.0, \"#f0f921\"]], \"sequentialminus\": [[0.0, \"#0d0887\"], [0.1111111111111111, \"#46039f\"], [0.2222222222222222, \"#7201a8\"], [0.3333333333333333, \"#9c179e\"], [0.4444444444444444, \"#bd3786\"], [0.5555555555555556, \"#d8576b\"], [0.6666666666666666, \"#ed7953\"], [0.7777777777777778, \"#fb9f3a\"], [0.8888888888888888, \"#fdca26\"], [1.0, \"#f0f921\"]]}, \"colorway\": [\"#636efa\", \"#EF553B\", \"#00cc96\", \"#ab63fa\", \"#FFA15A\", \"#19d3f3\", \"#FF6692\", \"#B6E880\", \"#FF97FF\", \"#FECB52\"], \"font\": {\"color\": \"#2a3f5f\"}, \"geo\": {\"bgcolor\": \"white\", \"lakecolor\": \"white\", \"landcolor\": \"#E5ECF6\", \"showlakes\": true, \"showland\": true, \"subunitcolor\": \"white\"}, \"hoverlabel\": {\"align\": \"left\"}, \"hovermode\": \"closest\", \"mapbox\": {\"style\": \"light\"}, \"paper_bgcolor\": \"white\", \"plot_bgcolor\": \"#E5ECF6\", \"polar\": {\"angularaxis\": {\"gridcolor\": \"white\", \"linecolor\": \"white\", \"ticks\": \"\"}, \"bgcolor\": \"#E5ECF6\", \"radialaxis\": {\"gridcolor\": \"white\", \"linecolor\": \"white\", \"ticks\": \"\"}}, \"scene\": {\"xaxis\": {\"backgroundcolor\": \"#E5ECF6\", \"gridcolor\": \"white\", \"gridwidth\": 2, \"linecolor\": \"white\", \"showbackground\": true, \"ticks\": \"\", \"zerolinecolor\": \"white\"}, \"yaxis\": {\"backgroundcolor\": \"#E5ECF6\", \"gridcolor\": \"white\", \"gridwidth\": 2, \"linecolor\": \"white\", \"showbackground\": true, \"ticks\": \"\", \"zerolinecolor\": \"white\"}, \"zaxis\": {\"backgroundcolor\": \"#E5ECF6\", \"gridcolor\": \"white\", \"gridwidth\": 2, \"linecolor\": \"white\", \"showbackground\": true, \"ticks\": \"\", \"zerolinecolor\": \"white\"}}, \"shapedefaults\": {\"line\": {\"color\": \"#2a3f5f\"}}, \"ternary\": {\"aaxis\": {\"gridcolor\": \"white\", \"linecolor\": \"white\", \"ticks\": \"\"}, \"baxis\": {\"gridcolor\": \"white\", \"linecolor\": \"white\", \"ticks\": \"\"}, \"bgcolor\": \"#E5ECF6\", \"caxis\": {\"gridcolor\": \"white\", \"linecolor\": \"white\", \"ticks\": \"\"}}, \"title\": {\"x\": 0.05}, \"xaxis\": {\"automargin\": true, \"gridcolor\": \"white\", \"linecolor\": \"white\", \"ticks\": \"\", \"title\": {\"standoff\": 15}, \"zerolinecolor\": \"white\", \"zerolinewidth\": 2}, \"yaxis\": {\"automargin\": true, \"gridcolor\": \"white\", \"linecolor\": \"white\", \"ticks\": \"\", \"title\": {\"standoff\": 15}, \"zerolinecolor\": \"white\", \"zerolinewidth\": 2}}}, \"title\": {\"text\": \"Predicci\\u00f3n del modelo SEIR de la evoluci\\u00f3n de COVID-19 en Ciudad de M\\u00e9xico\"}, \"xaxis\": {\"anchor\": \"y\", \"domain\": [0.0, 1.0], \"title\": {\"text\": \"D\\u00edas\"}}, \"yaxis\": {\"anchor\": \"x\", \"domain\": [0.0, 1.0], \"title\": {\"text\": \"Casos Totales\"}}},\n",
              "                        {\"responsive\": true}\n",
              "                    ).then(function(){\n",
              "                            \n",
              "var gd = document.getElementById('dc5eeccf-29ed-44b6-9d7f-a8bf757b4200');\n",
              "var x = new MutationObserver(function (mutations, observer) {{\n",
              "        var display = window.getComputedStyle(gd).display;\n",
              "        if (!display || display === 'none') {{\n",
              "            console.log([gd, 'removed!']);\n",
              "            Plotly.purge(gd);\n",
              "            observer.disconnect();\n",
              "        }}\n",
              "}});\n",
              "\n",
              "// Listen for the removal of the full notebook cells\n",
              "var notebookContainer = gd.closest('#notebook-container');\n",
              "if (notebookContainer) {{\n",
              "    x.observe(notebookContainer, {childList: true});\n",
              "}}\n",
              "\n",
              "// Listen for the clearing of the current output cell\n",
              "var outputEl = gd.closest('.output');\n",
              "if (outputEl) {{\n",
              "    x.observe(outputEl, {childList: true});\n",
              "}}\n",
              "\n",
              "                        })\n",
              "                };\n",
              "                \n",
              "            </script>\n",
              "        </div>\n",
              "</body>\n",
              "</html>"
            ]
          },
          "metadata": {
            "tags": []
          }
        }
      ]
    }
  ]
}